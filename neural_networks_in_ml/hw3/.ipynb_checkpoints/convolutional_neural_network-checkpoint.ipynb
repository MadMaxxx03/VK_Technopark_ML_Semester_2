{
 "cells": [
  {
   "cell_type": "code",
   "execution_count": 21,
   "id": "d76dbc89-88a2-4be9-bd25-5b2ec0ef64a6",
   "metadata": {},
   "outputs": [],
   "source": [
    "import torch\n",
    "import torch.nn as nn\n",
    "import torch.optim as optim\n",
    "import torchvision\n",
    "import torchvision.transforms as transforms\n",
    "from torchvision.datasets import ImageFolder\n",
    "from torch.utils.data import DataLoader, random_split\n",
    "import os\n",
    "from tqdm import tqdm\n",
    "from torch.utils.tensorboard import SummaryWriter\n",
    "from torch.utils.data import Subset\n",
    "import numpy as np"
   ]
  },
  {
   "cell_type": "code",
   "execution_count": 23,
   "id": "5111ffae-1ee4-4ffe-9c08-c30e8f51c5f0",
   "metadata": {},
   "outputs": [],
   "source": [
    "data = ImageFolder(\"data/\", transform=transform)\n",
    "\n",
    "class_indices = {i: np.where(np.array(data.targets) == i)[0] for i in range(len(data.classes))}\n",
    "subset_indices = []\n",
    "\n",
    "for indices in class_indices.values():\n",
    "    subset_size = int(0.1 * len(indices))\n",
    "    selected_indices = np.random.choice(indices, subset_size, replace=False)\n",
    "    subset_indices.extend(selected_indices)\n",
    "\n",
    "subset_data = Subset(data, subset_indices)\n",
    "\n",
    "train_size = int(0.8 * len(subset_data))\n",
    "val_size = int(0.1 * len(subset_data))\n",
    "test_size = len(subset_data) - train_size - val_size\n",
    "\n",
    "train_data, val_data, test_data = random_split(subset_data, [train_size, val_size, test_size])\n",
    "\n",
    "train_loader = DataLoader(train_data, batch_size=32, shuffle=True)\n",
    "val_loader = DataLoader(val_data, batch_size=32, shuffle=False)\n",
    "test_loader = DataLoader(test_data, batch_size=32, shuffle=False)"
   ]
  },
  {
   "cell_type": "code",
   "execution_count": 25,
   "id": "e4792fb0-9aee-45b2-b1f8-687a88149b0a",
   "metadata": {},
   "outputs": [],
   "source": [
    "tensorboardWriter = SummaryWriter('logs/experiment_1')"
   ]
  }
 ],
 "metadata": {
  "kernelspec": {
   "display_name": "Python 3 (ipykernel)",
   "language": "python",
   "name": "python3"
  },
  "language_info": {
   "codemirror_mode": {
    "name": "ipython",
    "version": 3
   },
   "file_extension": ".py",
   "mimetype": "text/x-python",
   "name": "python",
   "nbconvert_exporter": "python",
   "pygments_lexer": "ipython3",
   "version": "3.12.4"
  }
 },
 "nbformat": 4,
 "nbformat_minor": 5
}
